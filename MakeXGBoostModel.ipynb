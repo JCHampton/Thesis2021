{
 "cells": [
  {
   "cell_type": "code",
   "execution_count": 1,
   "metadata": {},
   "outputs": [],
   "source": [
    "#import some stuff\n",
    "import pandas as pd\n",
    "import numpy as np\n",
    "import matplotlib.pyplot as plt\n",
    "import math\n",
    "import os\n",
    "from tqdm import tqdm\n",
    "import glob\n",
    "import time\n",
    "import statsmodels.api as sm\n",
    "import xgboost as xgb\n",
    "from sklearn.model_selection import train_test_split #use this?\n",
    "from scipy import stats"
   ]
  },
  {
   "cell_type": "code",
   "execution_count": 2,
   "metadata": {},
   "outputs": [
    {
     "name": "stderr",
     "output_type": "stream",
     "text": [
      "C:\\Users\\JCHam\\anaconda3\\lib\\site-packages\\IPython\\core\\interactiveshell.py:3063: DtypeWarning: Columns (82,84) have mixed types.Specify dtype option on import or set low_memory=False.\n",
      "  interactivity=interactivity, compiler=compiler, result=result)\n",
      "C:\\Users\\JCHam\\anaconda3\\lib\\site-packages\\ipykernel_launcher.py:8: DtypeWarning: Columns (82,84) have mixed types.Specify dtype option on import or set low_memory=False.\n",
      "  \n"
     ]
    }
   ],
   "source": [
    "csvPath = r'D:\\\\Thesis2021\\nba-movement-data\\data\\dataAndLabel'\n",
    "#df = pd.read_csv('nba-movement-data\\data\\converted\\0021500001_converted.csv')\n",
    "df = pd.read_csv(csvPath + '/0021500001_dataAndLabel.csv')\n",
    "\n",
    "games = os.listdir(csvPath)\n",
    "all_files = glob.glob(os.path.join(csvPath, \"*.csv\"))\n",
    "df_from_each_file = (pd.read_csv(f) for f in all_files[0:15])\n",
    "concatenated_df   = pd.concat(df_from_each_file, ignore_index=True)"
   ]
  },
  {
   "cell_type": "code",
   "execution_count": 3,
   "metadata": {},
   "outputs": [
    {
     "data": {
      "text/html": [
       "<div>\n",
       "<style scoped>\n",
       "    .dataframe tbody tr th:only-of-type {\n",
       "        vertical-align: middle;\n",
       "    }\n",
       "\n",
       "    .dataframe tbody tr th {\n",
       "        vertical-align: top;\n",
       "    }\n",
       "\n",
       "    .dataframe thead th {\n",
       "        text-align: right;\n",
       "    }\n",
       "</style>\n",
       "<table border=\"1\" class=\"dataframe\">\n",
       "  <thead>\n",
       "    <tr style=\"text-align: right;\">\n",
       "      <th></th>\n",
       "      <th>game_clock</th>\n",
       "      <th>shot_clock</th>\n",
       "      <th>quarter</th>\n",
       "      <th>game_id</th>\n",
       "      <th>event_id</th>\n",
       "      <th>team_id1</th>\n",
       "      <th>player_id1</th>\n",
       "      <th>x_loc1</th>\n",
       "      <th>y_loc1</th>\n",
       "      <th>speed1</th>\n",
       "      <th>angle1</th>\n",
       "      <th>radius1</th>\n",
       "      <th>team_id2</th>\n",
       "      <th>...</th>\n",
       "      <th>radius11</th>\n",
       "      <th>isTO</th>\n",
       "      <th>isFT</th>\n",
       "      <th>isReb</th>\n",
       "      <th>isFTMade</th>\n",
       "      <th>FTsMade</th>\n",
       "      <th>NonShotPlayerID</th>\n",
       "      <th>NonShotPlayerName</th>\n",
       "      <th>ShotPlayerID</th>\n",
       "      <th>ShotPlayerName</th>\n",
       "      <th>SHOT_TIME</th>\n",
       "      <th>possPoints</th>\n",
       "      <th>isShot</th>\n",
       "    </tr>\n",
       "  </thead>\n",
       "  <tbody>\n",
       "    <tr>\n",
       "      <th>0</th>\n",
       "      <td>720.00</td>\n",
       "      <td>24.00</td>\n",
       "      <td>1</td>\n",
       "      <td>21500001</td>\n",
       "      <td>1</td>\n",
       "      <td>-1</td>\n",
       "      <td>-1</td>\n",
       "      <td>11.4806</td>\n",
       "      <td>419.9969</td>\n",
       "      <td>0.000000</td>\n",
       "      <td>0.000000</td>\n",
       "      <td>6.76567</td>\n",
       "      <td>1610612737</td>\n",
       "      <td>...</td>\n",
       "      <td>0.0</td>\n",
       "      <td>False</td>\n",
       "      <td>0.0</td>\n",
       "      <td>False</td>\n",
       "      <td>0.0</td>\n",
       "      <td>0.0</td>\n",
       "      <td>201143.0</td>\n",
       "      <td>Al Horford</td>\n",
       "      <td>NaN</td>\n",
       "      <td>NaN</td>\n",
       "      <td>NaN</td>\n",
       "      <td>0.0</td>\n",
       "      <td>False</td>\n",
       "    </tr>\n",
       "    <tr>\n",
       "      <th>1</th>\n",
       "      <td>719.98</td>\n",
       "      <td>23.90</td>\n",
       "      <td>1</td>\n",
       "      <td>21500001</td>\n",
       "      <td>1</td>\n",
       "      <td>-1</td>\n",
       "      <td>-1</td>\n",
       "      <td>26.8673</td>\n",
       "      <td>357.7526</td>\n",
       "      <td>0.000000</td>\n",
       "      <td>0.000000</td>\n",
       "      <td>6.47278</td>\n",
       "      <td>1610612737</td>\n",
       "      <td>...</td>\n",
       "      <td>0.0</td>\n",
       "      <td>False</td>\n",
       "      <td>0.0</td>\n",
       "      <td>False</td>\n",
       "      <td>0.0</td>\n",
       "      <td>0.0</td>\n",
       "      <td>201143.0</td>\n",
       "      <td>Al Horford</td>\n",
       "      <td>NaN</td>\n",
       "      <td>NaN</td>\n",
       "      <td>NaN</td>\n",
       "      <td>0.0</td>\n",
       "      <td>False</td>\n",
       "    </tr>\n",
       "    <tr>\n",
       "      <th>2</th>\n",
       "      <td>719.94</td>\n",
       "      <td>23.86</td>\n",
       "      <td>1</td>\n",
       "      <td>21500001</td>\n",
       "      <td>1</td>\n",
       "      <td>-1</td>\n",
       "      <td>-1</td>\n",
       "      <td>25.1361</td>\n",
       "      <td>357.9653</td>\n",
       "      <td>43.605438</td>\n",
       "      <td>-0.122250</td>\n",
       "      <td>6.09299</td>\n",
       "      <td>1610612737</td>\n",
       "      <td>...</td>\n",
       "      <td>0.0</td>\n",
       "      <td>False</td>\n",
       "      <td>0.0</td>\n",
       "      <td>False</td>\n",
       "      <td>0.0</td>\n",
       "      <td>0.0</td>\n",
       "      <td>201143.0</td>\n",
       "      <td>Al Horford</td>\n",
       "      <td>NaN</td>\n",
       "      <td>NaN</td>\n",
       "      <td>NaN</td>\n",
       "      <td>0.0</td>\n",
       "      <td>False</td>\n",
       "    </tr>\n",
       "    <tr>\n",
       "      <th>3</th>\n",
       "      <td>719.90</td>\n",
       "      <td>23.82</td>\n",
       "      <td>1</td>\n",
       "      <td>21500001</td>\n",
       "      <td>1</td>\n",
       "      <td>-1</td>\n",
       "      <td>-1</td>\n",
       "      <td>25.0770</td>\n",
       "      <td>355.3443</td>\n",
       "      <td>65.541656</td>\n",
       "      <td>1.548252</td>\n",
       "      <td>6.16468</td>\n",
       "      <td>1610612737</td>\n",
       "      <td>...</td>\n",
       "      <td>0.0</td>\n",
       "      <td>False</td>\n",
       "      <td>0.0</td>\n",
       "      <td>False</td>\n",
       "      <td>0.0</td>\n",
       "      <td>0.0</td>\n",
       "      <td>201143.0</td>\n",
       "      <td>Al Horford</td>\n",
       "      <td>NaN</td>\n",
       "      <td>NaN</td>\n",
       "      <td>NaN</td>\n",
       "      <td>0.0</td>\n",
       "      <td>False</td>\n",
       "    </tr>\n",
       "    <tr>\n",
       "      <th>4</th>\n",
       "      <td>719.86</td>\n",
       "      <td>23.78</td>\n",
       "      <td>1</td>\n",
       "      <td>21500001</td>\n",
       "      <td>1</td>\n",
       "      <td>-1</td>\n",
       "      <td>-1</td>\n",
       "      <td>24.0813</td>\n",
       "      <td>353.8495</td>\n",
       "      <td>44.901597</td>\n",
       "      <td>0.983180</td>\n",
       "      <td>6.11854</td>\n",
       "      <td>1610612737</td>\n",
       "      <td>...</td>\n",
       "      <td>0.0</td>\n",
       "      <td>False</td>\n",
       "      <td>0.0</td>\n",
       "      <td>False</td>\n",
       "      <td>0.0</td>\n",
       "      <td>0.0</td>\n",
       "      <td>201143.0</td>\n",
       "      <td>Al Horford</td>\n",
       "      <td>NaN</td>\n",
       "      <td>NaN</td>\n",
       "      <td>NaN</td>\n",
       "      <td>0.0</td>\n",
       "      <td>False</td>\n",
       "    </tr>\n",
       "  </tbody>\n",
       "</table>\n",
       "<p>5 rows × 94 columns</p>\n",
       "</div>"
      ],
      "text/plain": [
       "   game_clock  shot_clock  quarter   game_id  event_id  team_id1  player_id1  \\\n",
       "0      720.00       24.00        1  21500001         1        -1          -1   \n",
       "1      719.98       23.90        1  21500001         1        -1          -1   \n",
       "2      719.94       23.86        1  21500001         1        -1          -1   \n",
       "3      719.90       23.82        1  21500001         1        -1          -1   \n",
       "4      719.86       23.78        1  21500001         1        -1          -1   \n",
       "\n",
       "    x_loc1    y_loc1     speed1    angle1  radius1    team_id2  ...  radius11  \\\n",
       "0  11.4806  419.9969   0.000000  0.000000  6.76567  1610612737  ...       0.0   \n",
       "1  26.8673  357.7526   0.000000  0.000000  6.47278  1610612737  ...       0.0   \n",
       "2  25.1361  357.9653  43.605438 -0.122250  6.09299  1610612737  ...       0.0   \n",
       "3  25.0770  355.3443  65.541656  1.548252  6.16468  1610612737  ...       0.0   \n",
       "4  24.0813  353.8495  44.901597  0.983180  6.11854  1610612737  ...       0.0   \n",
       "\n",
       "    isTO  isFT  isReb  isFTMade  FTsMade  NonShotPlayerID  NonShotPlayerName  \\\n",
       "0  False   0.0  False       0.0      0.0         201143.0         Al Horford   \n",
       "1  False   0.0  False       0.0      0.0         201143.0         Al Horford   \n",
       "2  False   0.0  False       0.0      0.0         201143.0         Al Horford   \n",
       "3  False   0.0  False       0.0      0.0         201143.0         Al Horford   \n",
       "4  False   0.0  False       0.0      0.0         201143.0         Al Horford   \n",
       "\n",
       "   ShotPlayerID  ShotPlayerName  SHOT_TIME  possPoints  isShot  \n",
       "0           NaN             NaN        NaN         0.0   False  \n",
       "1           NaN             NaN        NaN         0.0   False  \n",
       "2           NaN             NaN        NaN         0.0   False  \n",
       "3           NaN             NaN        NaN         0.0   False  \n",
       "4           NaN             NaN        NaN         0.0   False  \n",
       "\n",
       "[5 rows x 94 columns]"
      ]
     },
     "execution_count": 3,
     "metadata": {},
     "output_type": "execute_result"
    }
   ],
   "source": [
    "#if we want all columns\n",
    "pd.set_option('display.max_columns', 26)\n",
    "df.head()"
   ]
  },
  {
   "cell_type": "code",
   "execution_count": 6,
   "metadata": {},
   "outputs": [],
   "source": [
    "def getDFReady(df):\n",
    "    df = df.copy()\n",
    "    df['possPoints'] = df.apply(lambda row: 0 if pd.isnull(row['possPoints']) else row['possPoints'],axis=1)\n",
    "    df = df[['shot_clock','x_loc1','y_loc1','speed1','angle1','radius1','x_loc2','y_loc2','speed2','angle2','x_loc3','y_loc3','speed3','angle3',\n",
    "            'x_loc4','y_loc4','speed4','angle4','x_loc5','y_loc5','speed5','angle5','x_loc6','y_loc6','speed6','angle6',\n",
    "            'x_loc7','y_loc7','speed7','angle7','x_loc8','y_loc8','speed8','angle8','x_loc9','y_loc9','speed9','angle9',\n",
    "            'x_loc10','y_loc10','speed10','angle10','x_loc11','y_loc11','speed11','angle11','possPoints']] #assumes player1 is always the ball\n",
    "    X = df.iloc[:,:-1]\n",
    "    y = df.iloc[:,-1]\n",
    "    return X,y"
   ]
  },
  {
   "cell_type": "code",
   "execution_count": 96,
   "metadata": {},
   "outputs": [],
   "source": [
    "X,y = getDFReady(concatenated_df)\n",
    "Xtrain, Xtest, ytrain, ytest = train_test_split(X,y,test_size=0.25,random_state=24) #can add shuffle=False to not shuffle"
   ]
  },
  {
   "cell_type": "code",
   "execution_count": 97,
   "metadata": {},
   "outputs": [
    {
     "name": "stdout",
     "output_type": "stream",
     "text": [
      "Overall Mean: 0.7565712491794857\n"
     ]
    }
   ],
   "source": [
    "print(\"Overall Mean:\", df.possPoints.mean())"
   ]
  },
  {
   "cell_type": "code",
   "execution_count": 98,
   "metadata": {},
   "outputs": [],
   "source": [
    "#train the xgboost model\n",
    "\n",
    "dtrain = xgb.DMatrix(Xtrain,label=ytrain)\n",
    "\n",
    "# from https://github.com/apple/coremltools/issues/605\n",
    "\n",
    "# XGBoost model\n",
    "nrounds = 560 #use gridSearchCV\n",
    "params = {\n",
    "    'objective': 'multi:softprob',\n",
    "    'num_class': 4,\n",
    "    'booster' : 'gbtree', #gblinear/gbtree?\n",
    "    'eval_metric' : ['logloss'],\n",
    "    'eta' : 0.2,\n",
    "    'gamma' : 5,\n",
    "    'subsample' : 0.8,\n",
    "    'colsample_bytree' : 0.8,\n",
    "    'max_depth': 4,\n",
    "    'min_child_weight' : 6,\n",
    "    'base_score' : ytrain.mean()\n",
    "}"
   ]
  },
  {
   "cell_type": "code",
   "execution_count": 127,
   "metadata": {},
   "outputs": [
    {
     "name": "stdout",
     "output_type": "stream",
     "text": [
      "Wall time: 1h 11min 24s\n"
     ]
    }
   ],
   "source": [
    "%%time \n",
    "xgb_model = xgb.train(params, dtrain, num_boost_round=nrounds, verbose_eval=2)\n",
    "# save for debug\n",
    "xgb_model.save_model('xgbModel.json')\n",
    "#print('time to train model is ',time.time() - start_time)"
   ]
  },
  {
   "cell_type": "code",
   "execution_count": 128,
   "metadata": {},
   "outputs": [
    {
     "name": "stdout",
     "output_type": "stream",
     "text": [
      "Wall time: 1min 18s\n"
     ]
    }
   ],
   "source": [
    "%%time\n",
    "#test the model\n",
    "\n",
    "dtest = xgb.DMatrix(Xtest,label=ytest)\n",
    "xgb_predictions = xgb_model.predict(dtest) #.tolist()"
   ]
  },
  {
   "cell_type": "code",
   "execution_count": 101,
   "metadata": {},
   "outputs": [
    {
     "name": "stdout",
     "output_type": "stream",
     "text": [
      "[[6.43731058e-01 8.31337925e-03 2.14822918e-01 1.33132666e-01]\n",
      " [7.36778438e-01 6.17639907e-03 2.22934857e-01 3.41102742e-02]\n",
      " [3.67764562e-01 1.07807689e-03 6.06100917e-01 2.50564925e-02]\n",
      " ...\n",
      " [5.04774272e-01 1.55282706e-01 3.25290710e-01 1.46523174e-02]\n",
      " [8.71437192e-01 3.26274498e-03 1.06377684e-01 1.89223439e-02]\n",
      " [7.86878943e-01 1.37875395e-05 1.32233053e-01 8.08742195e-02]]\n"
     ]
    }
   ],
   "source": [
    "print(xgb_predictions)"
   ]
  },
  {
   "cell_type": "code",
   "execution_count": 129,
   "metadata": {},
   "outputs": [
    {
     "name": "stdout",
     "output_type": "stream",
     "text": [
      "EP Mean vs. actual mean\n",
      "0.7516035461956172\n",
      "0.7557897293256478\n"
     ]
    }
   ],
   "source": [
    "preds0,preds1,preds2,preds3 = xgb_predictions[:,0],xgb_predictions[:,1],xgb_predictions[:,2],xgb_predictions[:,3]\n",
    "XtestCopy = Xtest.copy()\n",
    "XtestCopy['x0Pts'] = preds0\n",
    "XtestCopy['x1Pts'] = preds1\n",
    "XtestCopy['x2Pts'] = preds2\n",
    "XtestCopy['x3Pts'] = preds3\n",
    "XtestCopy['EP'] = XtestCopy.apply(lambda row: row['x1Pts'] + 2*row['x2Pts'] + 3*row['x3Pts'],axis=1)\n",
    "print('EP Mean vs. actual mean')\n",
    "print(XtestCopy['EP'].mean())\n",
    "print(ytest.mean())"
   ]
  },
  {
   "cell_type": "code",
   "execution_count": 94,
   "metadata": {},
   "outputs": [
    {
     "data": {
      "text/html": [
       "<div>\n",
       "<style scoped>\n",
       "    .dataframe tbody tr th:only-of-type {\n",
       "        vertical-align: middle;\n",
       "    }\n",
       "\n",
       "    .dataframe tbody tr th {\n",
       "        vertical-align: top;\n",
       "    }\n",
       "\n",
       "    .dataframe thead th {\n",
       "        text-align: right;\n",
       "    }\n",
       "</style>\n",
       "<table border=\"1\" class=\"dataframe\">\n",
       "  <thead>\n",
       "    <tr style=\"text-align: right;\">\n",
       "      <th></th>\n",
       "      <th>shot_clock</th>\n",
       "      <th>x_loc1</th>\n",
       "      <th>y_loc1</th>\n",
       "      <th>speed1</th>\n",
       "      <th>angle1</th>\n",
       "      <th>radius1</th>\n",
       "      <th>x_loc2</th>\n",
       "      <th>y_loc2</th>\n",
       "      <th>speed2</th>\n",
       "      <th>angle2</th>\n",
       "      <th>x_loc3</th>\n",
       "      <th>y_loc3</th>\n",
       "      <th>speed3</th>\n",
       "      <th>...</th>\n",
       "      <th>x_loc10</th>\n",
       "      <th>y_loc10</th>\n",
       "      <th>speed10</th>\n",
       "      <th>angle10</th>\n",
       "      <th>x_loc11</th>\n",
       "      <th>y_loc11</th>\n",
       "      <th>speed11</th>\n",
       "      <th>angle11</th>\n",
       "      <th>x0Pts</th>\n",
       "      <th>x1Pts</th>\n",
       "      <th>x2Pts</th>\n",
       "      <th>x3Pts</th>\n",
       "      <th>EP</th>\n",
       "    </tr>\n",
       "  </thead>\n",
       "  <tbody>\n",
       "    <tr>\n",
       "      <th>2</th>\n",
       "      <td>23.86</td>\n",
       "      <td>25.1361</td>\n",
       "      <td>357.9653</td>\n",
       "      <td>43.605438</td>\n",
       "      <td>-0.122250</td>\n",
       "      <td>6.09299</td>\n",
       "      <td>91.7820</td>\n",
       "      <td>410.9989</td>\n",
       "      <td>9.409534</td>\n",
       "      <td>1.225771</td>\n",
       "      <td>41.6891</td>\n",
       "      <td>285.6228</td>\n",
       "      <td>45.780436</td>\n",
       "      <td>...</td>\n",
       "      <td>-105.0160</td>\n",
       "      <td>405.9587</td>\n",
       "      <td>5.817527</td>\n",
       "      <td>-1.705279</td>\n",
       "      <td>4.0251</td>\n",
       "      <td>413.8486</td>\n",
       "      <td>25.745054</td>\n",
       "      <td>2.205247</td>\n",
       "      <td>0.924893</td>\n",
       "      <td>0.013093</td>\n",
       "      <td>0.036110</td>\n",
       "      <td>0.025905</td>\n",
       "      <td>0.163027</td>\n",
       "    </tr>\n",
       "    <tr>\n",
       "      <th>3</th>\n",
       "      <td>23.82</td>\n",
       "      <td>25.0770</td>\n",
       "      <td>355.3443</td>\n",
       "      <td>65.541656</td>\n",
       "      <td>1.548252</td>\n",
       "      <td>6.16468</td>\n",
       "      <td>91.5735</td>\n",
       "      <td>410.5242</td>\n",
       "      <td>12.961779</td>\n",
       "      <td>1.156939</td>\n",
       "      <td>42.7647</td>\n",
       "      <td>284.3599</td>\n",
       "      <td>41.471615</td>\n",
       "      <td>...</td>\n",
       "      <td>-104.6349</td>\n",
       "      <td>406.8624</td>\n",
       "      <td>24.519264</td>\n",
       "      <td>-1.969878</td>\n",
       "      <td>4.8383</td>\n",
       "      <td>413.1746</td>\n",
       "      <td>26.405140</td>\n",
       "      <td>2.449521</td>\n",
       "      <td>0.910092</td>\n",
       "      <td>0.010390</td>\n",
       "      <td>0.044499</td>\n",
       "      <td>0.035019</td>\n",
       "      <td>0.204444</td>\n",
       "    </tr>\n",
       "    <tr>\n",
       "      <th>10</th>\n",
       "      <td>23.55</td>\n",
       "      <td>27.1564</td>\n",
       "      <td>341.2343</td>\n",
       "      <td>24.493343</td>\n",
       "      <td>-1.626023</td>\n",
       "      <td>6.27565</td>\n",
       "      <td>89.4298</td>\n",
       "      <td>403.3383</td>\n",
       "      <td>32.974032</td>\n",
       "      <td>1.318727</td>\n",
       "      <td>41.5697</td>\n",
       "      <td>280.3459</td>\n",
       "      <td>18.460849</td>\n",
       "      <td>...</td>\n",
       "      <td>96.7845</td>\n",
       "      <td>418.7759</td>\n",
       "      <td>73.464628</td>\n",
       "      <td>1.212449</td>\n",
       "      <td>8.5892</td>\n",
       "      <td>403.3360</td>\n",
       "      <td>33.121547</td>\n",
       "      <td>1.887143</td>\n",
       "      <td>0.929144</td>\n",
       "      <td>0.011683</td>\n",
       "      <td>0.041663</td>\n",
       "      <td>0.017510</td>\n",
       "      <td>0.147540</td>\n",
       "    </tr>\n",
       "    <tr>\n",
       "      <th>14</th>\n",
       "      <td>23.39</td>\n",
       "      <td>42.3933</td>\n",
       "      <td>344.2795</td>\n",
       "      <td>186.344898</td>\n",
       "      <td>-3.070751</td>\n",
       "      <td>5.99361</td>\n",
       "      <td>87.6133</td>\n",
       "      <td>395.5820</td>\n",
       "      <td>54.071210</td>\n",
       "      <td>1.372349</td>\n",
       "      <td>35.9798</td>\n",
       "      <td>280.7097</td>\n",
       "      <td>40.007743</td>\n",
       "      <td>...</td>\n",
       "      <td>91.3960</td>\n",
       "      <td>403.5149</td>\n",
       "      <td>107.012651</td>\n",
       "      <td>1.246364</td>\n",
       "      <td>11.3053</td>\n",
       "      <td>395.9387</td>\n",
       "      <td>55.016889</td>\n",
       "      <td>1.935928</td>\n",
       "      <td>0.890289</td>\n",
       "      <td>0.029778</td>\n",
       "      <td>0.049345</td>\n",
       "      <td>0.030588</td>\n",
       "      <td>0.220232</td>\n",
       "    </tr>\n",
       "    <tr>\n",
       "      <th>19</th>\n",
       "      <td>23.19</td>\n",
       "      <td>60.8936</td>\n",
       "      <td>339.7224</td>\n",
       "      <td>84.101090</td>\n",
       "      <td>2.485107</td>\n",
       "      <td>5.65287</td>\n",
       "      <td>86.2312</td>\n",
       "      <td>382.7766</td>\n",
       "      <td>72.327483</td>\n",
       "      <td>1.494125</td>\n",
       "      <td>27.1575</td>\n",
       "      <td>283.8277</td>\n",
       "      <td>50.062712</td>\n",
       "      <td>...</td>\n",
       "      <td>86.3343</td>\n",
       "      <td>383.4536</td>\n",
       "      <td>72.331912</td>\n",
       "      <td>1.417393</td>\n",
       "      <td>13.9894</td>\n",
       "      <td>384.7725</td>\n",
       "      <td>60.974148</td>\n",
       "      <td>1.718527</td>\n",
       "      <td>0.871043</td>\n",
       "      <td>0.010435</td>\n",
       "      <td>0.082913</td>\n",
       "      <td>0.035608</td>\n",
       "      <td>0.283086</td>\n",
       "    </tr>\n",
       "  </tbody>\n",
       "</table>\n",
       "<p>5 rows × 51 columns</p>\n",
       "</div>"
      ],
      "text/plain": [
       "    shot_clock   x_loc1    y_loc1      speed1    angle1  radius1   x_loc2  \\\n",
       "2        23.86  25.1361  357.9653   43.605438 -0.122250  6.09299  91.7820   \n",
       "3        23.82  25.0770  355.3443   65.541656  1.548252  6.16468  91.5735   \n",
       "10       23.55  27.1564  341.2343   24.493343 -1.626023  6.27565  89.4298   \n",
       "14       23.39  42.3933  344.2795  186.344898 -3.070751  5.99361  87.6133   \n",
       "19       23.19  60.8936  339.7224   84.101090  2.485107  5.65287  86.2312   \n",
       "\n",
       "      y_loc2     speed2    angle2   x_loc3    y_loc3     speed3  ...  \\\n",
       "2   410.9989   9.409534  1.225771  41.6891  285.6228  45.780436  ...   \n",
       "3   410.5242  12.961779  1.156939  42.7647  284.3599  41.471615  ...   \n",
       "10  403.3383  32.974032  1.318727  41.5697  280.3459  18.460849  ...   \n",
       "14  395.5820  54.071210  1.372349  35.9798  280.7097  40.007743  ...   \n",
       "19  382.7766  72.327483  1.494125  27.1575  283.8277  50.062712  ...   \n",
       "\n",
       "     x_loc10   y_loc10     speed10   angle10  x_loc11   y_loc11    speed11  \\\n",
       "2  -105.0160  405.9587    5.817527 -1.705279   4.0251  413.8486  25.745054   \n",
       "3  -104.6349  406.8624   24.519264 -1.969878   4.8383  413.1746  26.405140   \n",
       "10   96.7845  418.7759   73.464628  1.212449   8.5892  403.3360  33.121547   \n",
       "14   91.3960  403.5149  107.012651  1.246364  11.3053  395.9387  55.016889   \n",
       "19   86.3343  383.4536   72.331912  1.417393  13.9894  384.7725  60.974148   \n",
       "\n",
       "     angle11     x0Pts     x1Pts     x2Pts     x3Pts        EP  \n",
       "2   2.205247  0.924893  0.013093  0.036110  0.025905  0.163027  \n",
       "3   2.449521  0.910092  0.010390  0.044499  0.035019  0.204444  \n",
       "10  1.887143  0.929144  0.011683  0.041663  0.017510  0.147540  \n",
       "14  1.935928  0.890289  0.029778  0.049345  0.030588  0.220232  \n",
       "19  1.718527  0.871043  0.010435  0.082913  0.035608  0.283086  \n",
       "\n",
       "[5 rows x 51 columns]"
      ]
     },
     "execution_count": 94,
     "metadata": {},
     "output_type": "execute_result"
    }
   ],
   "source": [
    "XtestCopy.sort_index().head()"
   ]
  },
  {
   "cell_type": "code",
   "execution_count": 130,
   "metadata": {},
   "outputs": [],
   "source": [
    "cdf2 = concatenated_df[['game_clock','game_id','quarter']].copy()\n",
    "graphData = XtestCopy.merge(cdf2,how='left',left_index=True,right_index=True)\n",
    "graphData = graphData.loc[(graphData['game_id'] == 21500001) & (graphData['quarter'] == 1)]\n",
    "graphData = graphData.sort_values(by=['game_clock'],ascending=False)\n",
    "graphData = graphData[0:1000]"
   ]
  },
  {
   "cell_type": "code",
   "execution_count": 131,
   "metadata": {},
   "outputs": [
    {
     "data": {
      "image/png": "[encoded data removed]",
      "text/plain": [
       "<Figure size 432x288 with 1 Axes>"
      ]
     },
     "metadata": {
      "needs_background": "light"
     },
     "output_type": "display_data"
    }
   ],
   "source": [
    "plt.figure()\n",
    "plt.plot(graphData['game_clock'],graphData['x0Pts'],label='x0Pts',color='red')\n",
    "plt.plot(graphData['game_clock'],graphData['x1Pts'],label='x1Pts',color='orange')\n",
    "plt.plot(graphData['game_clock'],graphData['x2Pts'],label='x2Pts',color='yellow')\n",
    "plt.plot(graphData['game_clock'],graphData['x3Pts'],label='x3Pts',color='lawngreen')\n",
    "plt.plot(graphData['game_clock'],graphData['EP'],label='EP',color='black')\n",
    "plt.plot(shotsSmall['SHOT_TIME'],[2 for i in range(len(shotsSmall))],marker='o',linestyle='none',color='red',label='MadeShotTime')\n",
    "plt.plot(shotsSmallMissed['SHOT_TIME'],[1.75 for i in range(len(shotsSmallMissed))],marker='o',linestyle='none',color='blue',label='MissedShotTime')\n",
    "plt.legend(bbox_to_anchor=(1.05, 1.0), loc='upper left')\n",
    "plt.gca().invert_xaxis()\n",
    "plt.xlabel('Time Left in 1st Quarter - Game 1')\n",
    "plt.show()"
   ]
  },
  {
   "cell_type": "code",
   "execution_count": 29,
   "metadata": {},
   "outputs": [],
   "source": [
    "shotPath = 'nba-movement-data/data/shots'\n",
    "shots = pd.read_csv(shotPath + '/shots_fixed.csv')\n",
    "shots = shots.sort_values(by=['GAME_ID','GAME_EVENT_ID'])\n",
    "shotsSmall = shots.loc[(shots['SHOT_TIME'] > 560) & (shots['GAME_ID'] == 21500001) & (shots['SHOT_MADE_FLAG'] == 1)]\n",
    "shotsSmallMissed = shots.loc[(shots['SHOT_TIME'] > 560) & (shots['GAME_ID'] == 21500001) & (shots['SHOT_MADE_FLAG'] == 0)]\n",
    "#shots.head()"
   ]
  },
  {
   "cell_type": "markdown",
   "metadata": {},
   "source": [
    "# this model has no fts"
   ]
  },
  {
   "cell_type": "code",
   "execution_count": 39,
   "metadata": {},
   "outputs": [],
   "source": [
    "noFTs = concatenated_df.loc[concatenated_df['isFT'] == 0].copy()\n",
    "#noFTs has label for 2 points as 1 and label for 3 points as 2\n",
    "noFTs['possPoints'] = noFTs.apply(lambda row: (row['possPoints'] - 1) if (row['possPoints'] != 0.0) else row['possPoints'],axis=1)"
   ]
  },
  {
   "cell_type": "code",
   "execution_count": 40,
   "metadata": {},
   "outputs": [],
   "source": [
    "X,y = getDFReady(noFTs)\n",
    "Xtrain, Xtest, ytrain, ytest = train_test_split(X,y,test_size=0.25,random_state=24) #can add shuffle=False to not shuffle"
   ]
  },
  {
   "cell_type": "code",
   "execution_count": 41,
   "metadata": {},
   "outputs": [
    {
     "data": {
      "text/plain": [
       "array([0., 1., 2.])"
      ]
     },
     "execution_count": 41,
     "metadata": {},
     "output_type": "execute_result"
    }
   ],
   "source": [
    "noFTs['possPoints'].unique()"
   ]
  },
  {
   "cell_type": "code",
   "execution_count": 42,
   "metadata": {},
   "outputs": [],
   "source": [
    "#train the xgboost model\n",
    "\n",
    "dtrain = xgb.DMatrix(Xtrain,label=ytrain)\n",
    "\n",
    "# from https://github.com/apple/coremltools/issues/605\n",
    "\n",
    "# XGBoost model\n",
    "nrounds = 560 #use gridSearchCV\n",
    "params = {\n",
    "    'objective': 'multi:softprob',\n",
    "    'num_class': 3,\n",
    "    'booster' : 'gbtree', #gblinear/gbtree?\n",
    "    'eval_metric' : ['logloss'],\n",
    "    'eta' : 0.2,\n",
    "    'gamma' : 5,\n",
    "    'subsample' : 0.8,\n",
    "    'colsample_bytree' : 0.8,\n",
    "    'max_depth': 4,\n",
    "    'min_child_weight' : 6,\n",
    "    'base_score' : ytrain.mean()\n",
    "}"
   ]
  },
  {
   "cell_type": "code",
   "execution_count": 43,
   "metadata": {},
   "outputs": [
    {
     "name": "stdout",
     "output_type": "stream",
     "text": [
      "Wall time: 54min 34s\n"
     ]
    }
   ],
   "source": [
    "%%time \n",
    "xgb_model = xgb.train(params, dtrain, num_boost_round=nrounds, verbose_eval=2)\n",
    "# save for debug\n",
    "xgb_model.save_model('xgbModelnoFT.json')\n",
    "#print('time to train model is ',time.time() - start_time)"
   ]
  },
  {
   "cell_type": "code",
   "execution_count": 44,
   "metadata": {},
   "outputs": [
    {
     "name": "stdout",
     "output_type": "stream",
     "text": [
      "Wall time: 8.06 s\n"
     ]
    }
   ],
   "source": [
    "%%time\n",
    "#test the model\n",
    "\n",
    "dtest = xgb.DMatrix(Xtest,label=ytest)\n",
    "xgb_predictions = xgb_model.predict(dtest) #.tolist()"
   ]
  },
  {
   "cell_type": "code",
   "execution_count": 45,
   "metadata": {},
   "outputs": [
    {
     "name": "stdout",
     "output_type": "stream",
     "text": [
      "[[0.59562266 0.39642715 0.00795016]\n",
      " [0.67451984 0.10224842 0.22323175]\n",
      " [0.44209754 0.44799095 0.10991149]\n",
      " ...\n",
      " [0.95093656 0.0244003  0.02466317]\n",
      " [0.9196702  0.05904913 0.02128072]\n",
      " [0.7269305  0.24058178 0.0324877 ]]\n"
     ]
    }
   ],
   "source": [
    "print(xgb_predictions)"
   ]
  },
  {
   "cell_type": "code",
   "execution_count": 46,
   "metadata": {},
   "outputs": [
    {
     "name": "stdout",
     "output_type": "stream",
     "text": [
      "EP Mean vs. actual mean\n",
      "0.7171176612354706\n",
      "0.7183259504895774\n"
     ]
    }
   ],
   "source": [
    "preds0,preds1,preds2 = xgb_predictions[:,0],xgb_predictions[:,1],xgb_predictions[:,2]\n",
    "XtestCopy = Xtest.copy()\n",
    "XtestCopy['x0Pts'] = preds0\n",
    "XtestCopy['x2Pts'] = preds1\n",
    "XtestCopy['x3Pts'] = preds2\n",
    "XtestCopy['EP'] = XtestCopy.apply(lambda row: 2*row['x2Pts'] + 3*row['x3Pts'],axis=1)\n",
    "print('EP Mean vs. actual mean')\n",
    "print(XtestCopy['EP'].mean())\n",
    "ytest = ytest.apply(lambda row: (row + 1) if (row != 0.0) else row) #change values back to actual points\n",
    "print(ytest.mean())"
   ]
  },
  {
   "cell_type": "code",
   "execution_count": 47,
   "metadata": {},
   "outputs": [],
   "source": [
    "cdf2 = df[['game_clock','game_id','quarter']].copy()\n",
    "graphData = XtestCopy.merge(cdf2,how='left',left_index=True,right_index=True)\n",
    "graphData = graphData.loc[(graphData['game_id'] == 21500001) & (graphData['quarter'] == 1)]\n",
    "graphData = graphData.sort_values(by=['game_clock'],ascending=False)\n",
    "graphData = graphData.loc[graphData['game_clock'] > 560]\n",
    "#graphData = graphData[0:1000]"
   ]
  },
  {
   "cell_type": "code",
   "execution_count": 48,
   "metadata": {},
   "outputs": [
    {
     "data": {
      "image/png": "[encoded data removed]",
      "text/plain": [
       "<Figure size 432x288 with 1 Axes>"
      ]
     },
     "metadata": {
      "needs_background": "light"
     },
     "output_type": "display_data"
    }
   ],
   "source": [
    "plt.figure()\n",
    "plt.plot(graphData['game_clock'],graphData['x0Pts'],label='x0Pts',color='red')\n",
    "plt.plot(graphData['game_clock'],graphData['x2Pts'],label='x2Pts',color='yellow')\n",
    "plt.plot(graphData['game_clock'],graphData['x3Pts'],label='x3Pts',color='lawngreen')\n",
    "plt.plot(graphData['game_clock'],graphData['EP'],label='EP',color='black')\n",
    "plt.plot(shotsSmall['SHOT_TIME'],[2 for i in range(len(shotsSmall))],marker='o',linestyle='none',color='red',label='MadeShotTime')\n",
    "plt.plot(shotsSmallMissed['SHOT_TIME'],[1.75 for i in range(len(shotsSmallMissed))],marker='o',linestyle='none',color='blue',label='MissedShotTime')\n",
    "plt.legend(bbox_to_anchor=(1.05, 1.0), loc='upper left')\n",
    "plt.gca().invert_xaxis()\n",
    "plt.xlabel('Time Left in 1st Quarter - Game 1')\n",
    "plt.show()"
   ]
  },
  {
   "cell_type": "code",
   "execution_count": 31,
   "metadata": {},
   "outputs": [],
   "source": [
    "# now use all df\n",
    "dtestall = xgb.DMatrix(X)\n",
    "xgb_predsall = xgb_model.predict(dtestall)"
   ]
  },
  {
   "cell_type": "code",
   "execution_count": 32,
   "metadata": {},
   "outputs": [
    {
     "name": "stdout",
     "output_type": "stream",
     "text": [
      "EP Mean vs. actual mean\n",
      "0.7457723087232694\n",
      "0.7570000584556029\n"
     ]
    }
   ],
   "source": [
    "preds0,preds1,preds2 = xgb_predsall[:,0],xgb_predsall[:,1],xgb_predsall[:,2]\n",
    "XCopy = X.copy()\n",
    "XCopy['x0Pts'] = preds0\n",
    "XCopy['x2Pts'] = preds1\n",
    "XCopy['x3Pts'] = preds2\n",
    "XCopy['EP'] = XCopy.apply(lambda row: 2*row['x2Pts'] + 3*row['x3Pts'],axis=1)\n",
    "print('EP Mean vs. actual mean')\n",
    "print(XCopy['EP'].mean())\n",
    "yallCopy = y.copy()\n",
    "yallCopy = yallCopy.apply(lambda row: (row + 1) if (row != 0.0) else row) #change values back to actual points\n",
    "print(ytest.mean())"
   ]
  },
  {
   "cell_type": "code",
   "execution_count": 37,
   "metadata": {},
   "outputs": [],
   "source": [
    "cdf2 = df[['game_clock','game_id','quarter']].copy()\n",
    "graphData = XCopy.merge(cdf2,how='left',left_index=True,right_index=True)\n",
    "graphData = graphData.loc[(graphData['game_id'] == 21500001) & (graphData['quarter'] == 1)]\n",
    "graphData = graphData.sort_values(by=['game_clock'],ascending=False)\n",
    "graphData = graphData.loc[graphData['game_clock'] > 560]\n",
    "#graphData = graphData[0:1000]"
   ]
  },
  {
   "cell_type": "code",
   "execution_count": 38,
   "metadata": {},
   "outputs": [
    {
     "data": {
      "image/png": "[encoded data removed]",
      "text/plain": [
       "<Figure size 432x288 with 1 Axes>"
      ]
     },
     "metadata": {
      "needs_background": "light"
     },
     "output_type": "display_data"
    }
   ],
   "source": [
    "plt.figure()\n",
    "plt.plot(graphData['game_clock'],graphData['x0Pts'],label='x0Pts',color='red')\n",
    "plt.plot(graphData['game_clock'],graphData['x2Pts'],label='x2Pts',color='yellow')\n",
    "plt.plot(graphData['game_clock'],graphData['x3Pts'],label='x3Pts',color='lawngreen')\n",
    "plt.plot(graphData['game_clock'],graphData['EP'],label='EP',color='black')\n",
    "plt.plot(shotsSmall['SHOT_TIME'],[2 for i in range(len(shotsSmall))],marker='o',linestyle='none',color='red',label='MadeShotTime')\n",
    "plt.plot(shotsSmallMissed['SHOT_TIME'],[1.75 for i in range(len(shotsSmallMissed))],marker='o',linestyle='none',color='blue',label='MissedShotTime')\n",
    "plt.legend(bbox_to_anchor=(1.05, 1.0), loc='upper left')\n",
    "plt.gca().invert_xaxis()\n",
    "plt.xlabel('Time Left in 1st Quarter - Game 1')\n",
    "plt.show()"
   ]
  },
  {
   "cell_type": "markdown",
   "metadata": {},
   "source": [
    "\\\\(EP = 0*x0Points + 1*x1Points + 2*x2Points + 3*x3Points\\\\)"
   ]
  },
  {
   "cell_type": "markdown",
   "metadata": {},
   "source": [
    "\\\\(M_1(x) \\Leftarrow  M_0(x) + R_1(x)\\\\)\n",
    "\n",
    "\\\\(M_2(x) \\Leftarrow  M_1(x) + R_2(x)\\\\)\n",
    "\n",
    "\\\\(\\vdots\\\\)\n",
    "\n",
    "\\\\(M_n(x) \\Leftarrow  M_{n-1}(x) + R_n(x)\\\\)"
   ]
  },
  {
   "cell_type": "code",
   "execution_count": null,
   "metadata": {},
   "outputs": [],
   "source": []
  }
 ],
 "metadata": {
  "kernelspec": {
   "display_name": "Python 3",
   "language": "python",
   "name": "python3"
  },
  "language_info": {
   "codemirror_mode": {
    "name": "ipython",
    "version": 3
   },
   "file_extension": ".py",
   "mimetype": "text/x-python",
   "name": "python",
   "nbconvert_exporter": "python",
   "pygments_lexer": "ipython3",
   "version": "3.7.6"
  }
 },
 "nbformat": 4,
 "nbformat_minor": 4
}
